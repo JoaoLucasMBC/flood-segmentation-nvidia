{
 "cells": [
  {
   "cell_type": "code",
   "execution_count": null,
   "metadata": {},
   "outputs": [],
   "source": [
    "import os\n",
    "import pandas as pd\n",
    "from dotenv import load_dotenv\n",
    "import json\n",
    "\n",
    "load_dotenv()\n",
    "\n",
    "local_data_dir = os.environ['LOCAL_DATA_DIR']"
   ]
  },
  {
   "cell_type": "code",
   "execution_count": null,
   "metadata": {},
   "outputs": [],
   "source": [
    "def load_json(file_path):\n",
    "    with open(file_path, 'r') as file:\n",
    "        return json.load(file)"
   ]
  },
  {
   "cell_type": "code",
   "execution_count": null,
   "metadata": {},
   "outputs": [],
   "source": [
    "path =  f\"{local_data_dir}/v{os.environ['VERSION']}/results\"\n",
    "result_files = [\"country_metrics.json\", \"mask_distribution.json\"]\n",
    "\n",
    "data1 = load_json(f\"{path}/{result_files[0]}\")\n",
    "data2 = load_json(f\"{path}/{result_files[1]}\")\n",
    "\n",
    "df1 = pd.DataFrame.from_dict(data1, orient='index')\n",
    "df2 = pd.DataFrame.from_dict(data2, orient='index')\n",
    "\n",
    "df = df1.merge(df2, left_index=True, right_index=True, how='outer')\n",
    "df.head()"
   ]
  },
  {
   "cell_type": "code",
   "execution_count": null,
   "metadata": {},
   "outputs": [],
   "source": [
    "correlation_matrix = df.corr()\n",
    "\n",
    "final_corr_matrix = correlation_matrix[[\"amount_of_images\", \"mean_water_proportion\", \"little_water\", \"a_lot_of_water\"]].loc[[\"Mean IOU\", \"F1 score\", \"Precision\", \"Recall\"]]\n",
    "final_corr_matrix.head()"
   ]
  }
 ],
 "metadata": {
  "language_info": {
   "name": "python"
  }
 },
 "nbformat": 4,
 "nbformat_minor": 2
}
